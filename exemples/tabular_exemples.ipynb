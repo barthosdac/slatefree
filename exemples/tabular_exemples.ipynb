{
 "cells": [
  {
   "cell_type": "markdown",
   "metadata": {
    "id": "JP8_WtnE4woq"
   },
   "source": [
    "# SlateFree:  AISTATS'24 submission"
   ]
  },
  {
   "cell_type": "markdown",
   "metadata": {
    "id": "CcLcT8S45pGx"
   },
   "source": [
    "Copyright 2024 Anonymous Authors of the AISTATS'24 submission \"SlateFree: a Model-Free Value Decomposition for Sequential Slate Recommendations\"\n",
    "\n",
    "Licensed under the Apache License, Version 2.0 (the \"License\");\n",
    "you may not use this file except in compliance with the License.\n",
    "You may obtain a copy of the License at\n",
    "\n",
    "http://www.apache.org/licenses/LICENSE-2.0\n",
    "\n",
    "Unless required by applicable law or agreed to in writing, software distributed under the License is distributed on an \"AS IS\" BASIS,\n",
    "WITHOUT WARRANTIES OR CONDITIONS OF ANY KIND, either express or implied. See the License for the specific language governing permissions and limitations under the License."
   ]
  },
  {
   "cell_type": "code",
   "execution_count": null,
   "metadata": {
    "id": "1NriHP5f4wot"
   },
   "outputs": [],
   "source": [
    "import numpy as np\n",
    "import math\n",
    "from scipy.optimize import linprog\n",
    "import warnings\n",
    "import time\n",
    "import pandas as pd\n",
    "import matplotlib.pyplot as plt\n",
    "#\n",
    "warnings.filterwarnings(\"ignore\")"
   ]
  },
  {
   "cell_type": "markdown",
   "metadata": {
    "id": "lk7OHAYx4wov"
   },
   "source": [
    "We first build the MDP recommender and derive its solution with Policy and Value Iteration."
   ]
  },
  {
   "cell_type": "code",
   "execution_count": null,
   "metadata": {
    "id": "GvzCwm0M4wow"
   },
   "outputs": [],
   "source": [
    "# Number of recommended items\n",
    "N=3\n",
    "# Size of library\n",
    "K=10\n",
    "# Discount factor lambda for the Value-function\n",
    "lam = 0.85"
   ]
  },
  {
   "cell_type": "markdown",
   "metadata": {
    "id": "lbR4JbNg4wox"
   },
   "source": [
    "Select user type:\n",
    "- **User1** has fixed retention probability $a$ to select one of the recommended items uniformly at random with probability $a/N$. With probability $1-a$ the slate is rejected and the user choses at random one from the $K$ librabry items with probability vector $p0$ (defined later).\n",
    "- **User2** (*) has again retention probability $a$, but will never select items belonging to  a set XX, neither in the recommendation slate, nor in $p0$. In the case that the recommendation slate only has items from set XX, the user goes to $p0$.\n",
    "- **User3** (*) will always select from the recommendation slate, if at least one item from set YY is included, otherwise will go to $p0$.\n",
    "\n",
    "(*) only for RL, not treated by MDP methods below"
   ]
  },
  {
   "cell_type": "code",
   "execution_count": null,
   "metadata": {
    "id": "wndVF6NJ4wox"
   },
   "outputs": [],
   "source": [
    "user = 2"
   ]
  },
  {
   "cell_type": "markdown",
   "metadata": {
    "id": "asVLUWoX4woy"
   },
   "source": [
    "Choose the user preference vector $p0$"
   ]
  },
  {
   "cell_type": "code",
   "execution_count": null,
   "metadata": {
    "id": "R4Aa7tLA4woz"
   },
   "outputs": [],
   "source": [
    "# - Choose random p0\n",
    "#np.random.seed(0)\n",
    "#p0 = np.random.uniform(0,1,K)\n",
    "# - or Choose uniform p0\n",
    "p0 = np.ones(K)\n",
    "#normalise\n",
    "p0=p0/np.sum(p0)\n",
    "#print(p0)"
   ]
  },
  {
   "cell_type": "markdown",
   "metadata": {
    "id": "g_FHpXlD4woz"
   },
   "source": [
    "For User-1 and User-2 choose the retention probability."
   ]
  },
  {
   "cell_type": "code",
   "execution_count": null,
   "metadata": {
    "id": "Jg7X1goB4woz"
   },
   "outputs": [],
   "source": [
    "# User Retention (click on the recommendation list OR not 1-a)\n",
    "a = .75"
   ]
  },
  {
   "cell_type": "markdown",
   "metadata": {
    "id": "U-RbsLLa4wo0"
   },
   "source": [
    "Exclusion set for User2 (same for desirable set for User3)"
   ]
  },
  {
   "cell_type": "code",
   "execution_count": null,
   "metadata": {
    "id": "YmdYG6yX4wo0"
   },
   "outputs": [],
   "source": [
    "XX = list([0,1,8])"
   ]
  },
  {
   "cell_type": "markdown",
   "metadata": {
    "id": "iRfA8krl4wo2"
   },
   "source": [
    "Since User2 will never select from XX, we re-determine p0 with exclusions for User2"
   ]
  },
  {
   "cell_type": "code",
   "execution_count": null,
   "metadata": {
    "id": "jv1hnDnY4wo2"
   },
   "outputs": [],
   "source": [
    "p0X=p0.copy()\n",
    "p0X[XX]=0\n",
    "# re-normalise\n",
    "p0X=p0X/np.sum(p0X)"
   ]
  },
  {
   "cell_type": "code",
   "execution_count": null,
   "metadata": {
    "id": "W14__Wpq4wo2"
   },
   "outputs": [],
   "source": [
    "if user == 1 or user == 3:\n",
    "    p0in = p0\n",
    "else:\n",
    "    p0in = p0X\n",
    "#print(p0in)"
   ]
  },
  {
   "cell_type": "markdown",
   "metadata": {
    "id": "PBgG3-0X4wo3"
   },
   "source": [
    "Cost of items (we minimise in this simulation program, so less cost is better)"
   ]
  },
  {
   "cell_type": "code",
   "execution_count": null,
   "metadata": {
    "id": "tnLhOfqG4wo3"
   },
   "outputs": [],
   "source": [
    "#Costs\n",
    "co = 20*np.ones(K)\n",
    "co[0] = 5\n",
    "co[1] = 0\n",
    "co[-1] = 8 #see if/when the item with between cost is selected\n",
    "co[-3] = 4\n",
    "np.random.seed(9)\n",
    "co+=np.random.uniform(0,4,len(co))\n",
    "#print(co)"
   ]
  },
  {
   "cell_type": "markdown",
   "metadata": {
    "id": "Y5OlmU7M4wo4"
   },
   "source": [
    "## A. MDP Methods"
   ]
  },
  {
   "cell_type": "markdown",
   "metadata": {
    "id": "R5QyG1at4wo4"
   },
   "source": [
    "### A.1 Value Iteration"
   ]
  },
  {
   "cell_type": "markdown",
   "metadata": {
    "id": "RaLiqlVa4wo4"
   },
   "source": [
    "Given a policy Rn we do value iteration updates. The value iteration function requires as input the maximum number of iterations $T_{max}$ as well as the acceptable error (norm-$\\infty$)"
   ]
  },
  {
   "cell_type": "code",
   "execution_count": null,
   "metadata": {
    "id": "U8K1Cg3x4wo4"
   },
   "outputs": [],
   "source": [
    "err = 0.001\n",
    "T_max = 1000"
   ]
  },
  {
   "cell_type": "code",
   "execution_count": null,
   "metadata": {
    "id": "kqolJ_Rj7N7h"
   },
   "outputs": [],
   "source": [
    "def ValueIt(K,p0,N,lam,a,err,T_max,user,XX):\n",
    "    #Unknown value functions\n",
    "    V_old = np.array(np.zeros(K))\n",
    "    t = 0\n",
    "    BIG = 1000000\n",
    "    diff = BIG\n",
    "    indic_XX = np.zeros(K)\n",
    "    indic_XX[XX]=1\n",
    "    diff_av = 0\n",
    "    #\n",
    "    while (diff > err) and (t<T_max) and (np.abs(diff-diff_av) > err):\n",
    "        t+=1\n",
    "        if t%100==0:\n",
    "            print('Iteration:',t)\n",
    "        Rn = list()\n",
    "        for j in range(K):\n",
    "            A_ub= [list(-np.ones(K))]\n",
    "            b_ub= 0\n",
    "            A_eq=[np.ones(K)]\n",
    "            e_j = np.zeros(K)\n",
    "            e_j[j] = 1\n",
    "            A_eq.append(e_j)\n",
    "            b_eq=[[N,0]]\n",
    "            if user ==1:\n",
    "                res = linprog(V_old,A_ub,b_ub,A_eq,b_eq,bounds=np.tile([0,1],(K,1)),method='revised simplex')\n",
    "            Rn.append(list(res.x))\n",
    "        Rn = np.array(Rn)\n",
    "        if user==1:\n",
    "            P = a/N*Rn + (1-a)*np.array(np.tile(np.array(p0),(K,1)))\n",
    "        elif user==2:\n",
    "            P = a/N*np.multiply(Rn,1-indic_XX) + np.outer(1-a/N*(Rn@(1-indic_XX)),p0)\n",
    "        prod = (P@V_old)\n",
    "        V_new = co + lam*prod\n",
    "        V_save = V_old\n",
    "        diff = math.sqrt(np.linalg.norm(V_new-V_old,ord=np.inf))\n",
    "        diff_av = a*diff+(1-a)*diff_av\n",
    "        V_old = np.array(list(V_new))\n",
    "    print(\"Iterations:\",t)\n",
    "    #\n",
    "    return [V_new*(1-lam), np.round(Rn,3), diff, V_save*(1-lam)]"
   ]
  },
  {
   "cell_type": "code",
   "execution_count": null,
   "metadata": {
    "id": "OC9NZL8E4wo5"
   },
   "outputs": [],
   "source": [
    "if user ==1:\n",
    "    v, r, diff, v_old = ValueIt(K,p0in,N,lam,a,err,T_max,user,XX)\n",
    "    print(\"V=\",np.round(v,4))\n",
    "    print(\"R=\",r)\n",
    "    print(\"Convergence error=\",diff)"
   ]
  },
  {
   "cell_type": "markdown",
   "metadata": {
    "id": "8QJG8lep4wo6"
   },
   "source": [
    "### A.2 Policy Iteration"
   ]
  },
  {
   "cell_type": "markdown",
   "metadata": {
    "id": "QUVUDE634wo6"
   },
   "source": [
    "The Policy iteration updates recommendation frequencies. The recommendation frequency policy needs initialisation."
   ]
  },
  {
   "cell_type": "code",
   "execution_count": null,
   "metadata": {
    "id": "PwIGeo7A4wo6"
   },
   "outputs": [],
   "source": [
    "#Initialisation (random)\n",
    "np.random.seed(99)\n",
    "Ro = np.random.uniform(0,N,[K,K])\n",
    "# The self-recommendations get 0 frequency\n",
    "for j in range(K):\n",
    "    Ro[j,j]=0\n",
    "#Normalise so that the row-sum is equal to N\n",
    "No = np.tile(np.array(np.sum(Ro,axis=1)).transpose(), (K,1))\n",
    "No = No.transpose()\n",
    "Ro = np.round(N*np.array([i / j for i, j in zip(Ro, No)]),3)\n",
    "#print(Ro)"
   ]
  },
  {
   "cell_type": "markdown",
   "metadata": {
    "id": "T4DPJY7d4wo6"
   },
   "source": [
    "The policy iteration function requires as input the maximum number of iterations $T_{max}$ as well as the acceptable error (norm-$\\infty$)"
   ]
  },
  {
   "cell_type": "code",
   "execution_count": null,
   "metadata": {
    "id": "4FpdskI34wo6"
   },
   "outputs": [],
   "source": [
    "err2 = 0.001\n",
    "T_max2 = 100"
   ]
  },
  {
   "cell_type": "code",
   "execution_count": null,
   "metadata": {
    "id": "EwZzR9Aa7N7k"
   },
   "outputs": [],
   "source": [
    "def PolicIt(K,p0,lam,a,N,Ro,err,T_max,err2,T_max2,user,XX):\n",
    "    R_new = Ro\n",
    "    BIG = 10000\n",
    "    diff2 = BIG\n",
    "    t1=0\n",
    "    indic_XX = np.zeros(K)\n",
    "    indic_XX[XX]=1\n",
    "    #\n",
    "    while (diff2 > err2) and (t1<T_max2):\n",
    "        t1+=1\n",
    "        V_old = np.array(np.zeros(K))\n",
    "        # Policy evaluation (iteration)\n",
    "        diff = 10\n",
    "        t=0\n",
    "        while (diff > err) and (t<T_max):\n",
    "            t+=1\n",
    "            if user==1:\n",
    "                P = a/N*R_new + (1-a)*np.array(np.tile(np.array(p0),(K,1)))\n",
    "            prod = (P@V_old)\n",
    "            V_new = co + lam*prod\n",
    "            diff = math.sqrt(np.linalg.norm(V_new-V_old,ord=np.inf))\n",
    "            V_old = np.array(list(V_new))\n",
    "        Rup = list()\n",
    "        for j in range(K):\n",
    "            A_ub= [list(-np.ones(K))]\n",
    "            b_ub= 0\n",
    "            A_eq=[np.ones(K)]\n",
    "            e_j = np.zeros(K)\n",
    "            e_j[j] = 1\n",
    "            A_eq.append(e_j)\n",
    "            b_eq=[[N,0]]\n",
    "            if user==1:\n",
    "                res = linprog(V_old,A_ub,b_ub,A_eq,b_eq,bounds=np.tile([0,1],(K,1)),method='revised simplex')\n",
    "            Rup.append(list(res.x))\n",
    "        Rup = np.array(Rup)\n",
    "        R_old = R_new.copy()\n",
    "        R_new = np.round(Rup,4)\n",
    "        diff2 = math.sqrt(np.linalg.norm(R_new-R_old,ord=np.inf))\n",
    "    print(\"Iterations:\",t1)\n",
    "    return [np.round(V_new*(1-lam),4), np.round(R_new,3)]"
   ]
  },
  {
   "cell_type": "code",
   "execution_count": null,
   "metadata": {
    "id": "MpCXgrDW4wo6"
   },
   "outputs": [],
   "source": [
    "if user==1:\n",
    "    vp, rp = PolicIt(K,p0in,lam,a,N,Ro,err,T_max,err2,T_max2,user,XX)\n",
    "    print(\"Vp=\",vp)\n",
    "    print(\"Rp=\",rp)"
   ]
  },
  {
   "cell_type": "markdown",
   "metadata": {
    "id": "LfGE1xMn4wo7"
   },
   "source": [
    "## B. Vanilla RL Methods"
   ]
  },
  {
   "cell_type": "markdown",
   "metadata": {
    "id": "_LndJYWC4wo7"
   },
   "source": [
    "Implementation parameters"
   ]
  },
  {
   "cell_type": "code",
   "execution_count": null,
   "metadata": {
    "id": "uNc8h0H04wo7"
   },
   "outputs": [],
   "source": [
    "T_epis = 12000 # number of episodes\n",
    "gamma = 0.004 # learning rate\n",
    "epsip0 = 0.05 # eps-greedy, exploration part"
   ]
  },
  {
   "cell_type": "markdown",
   "metadata": {
    "id": "4MC15TCd4wo8"
   },
   "source": [
    "We can choose between methods: 'min' just applies the standard RL, whereas 'penalty' adds an extra positive penalty when the user does not follow the recommendation."
   ]
  },
  {
   "cell_type": "code",
   "execution_count": null,
   "metadata": {
    "id": "KBPpw0PA4wo8"
   },
   "outputs": [],
   "source": [
    "method = 'min'\n",
    "#method = 'penalty'"
   ]
  },
  {
   "cell_type": "code",
   "execution_count": null,
   "metadata": {
    "colab": {
     "base_uri": "https://localhost:8080/"
    },
    "id": "53lBZ9B24wo8",
    "outputId": "18a11760-e050-4990-ed76-12d432bf80f6"
   },
   "outputs": [
    {
     "name": "stdout",
     "output_type": "stream",
     "text": [
      "0\n"
     ]
    }
   ],
   "source": [
    "if method == 'min':\n",
    "    PENALTY = 0\n",
    "elif method == 'penalty':\n",
    "    PENALTY = 2*np.floor(max(co))\n",
    "#\n",
    "print(PENALTY)"
   ]
  },
  {
   "cell_type": "markdown",
   "metadata": {
    "id": "PpEYqJfZ4wo-"
   },
   "source": [
    "### B.1 SARSA (On-policy) N=1 dimension"
   ]
  },
  {
   "cell_type": "markdown",
   "metadata": {
    "id": "uJr3S3yC4wo-"
   },
   "source": [
    "First initialise the Q-table $K\\times K$"
   ]
  },
  {
   "cell_type": "code",
   "execution_count": null,
   "metadata": {
    "id": "SSmGVYjs4wo_"
   },
   "outputs": [],
   "source": [
    "# Initialise with arbitrary recommender matrix\n",
    "BIG = 20000000\n",
    "Qo = np.eye(K)*BIG\n",
    "#\n",
    "for i in range(K):\n",
    "    if i==K-1:\n",
    "        Qo[i][0]=2\n",
    "    else:\n",
    "        Qo[i][i+1]=2\n",
    "#print(Qo)"
   ]
  },
  {
   "cell_type": "code",
   "execution_count": null,
   "metadata": {
    "id": "xS-MjIMs7N7m"
   },
   "outputs": [],
   "source": [
    "def RandomChoice(S_old,K,cumulP0):\n",
    "    S_new = S_old\n",
    "    while S_new==S_old:\n",
    "        ran = np.random.uniform(0,1)\n",
    "        difi = -10\n",
    "        k=0\n",
    "        while (difi<0) and (k<K):\n",
    "            difi = cumulP0[k]-ran\n",
    "            k+=1\n",
    "        S_new = k-1\n",
    "    return S_new"
   ]
  },
  {
   "cell_type": "code",
   "execution_count": null,
   "metadata": {
    "id": "9D_v2bsp7N7n"
   },
   "outputs": [],
   "source": [
    "def behaveN1(user,reco,a,S_old,K,cumulP0,XX):\n",
    "    accept = 0\n",
    "    if user ==1:\n",
    "        #user decision (based on retention \"a\")\n",
    "        if np.random.binomial(1,a,1) ==1:\n",
    "            #print(\"Follow reco\")\n",
    "            accept+=1\n",
    "            S_new = reco\n",
    "        else:\n",
    "            #print(\"Random choice\")\n",
    "            S_new = RandomChoice(S_old,K,cumulP0)\n",
    "    #\n",
    "    elif user ==2:\n",
    "        if np.random.binomial(1,a,1) ==1 and (reco not in XX):\n",
    "            #print(\"Follow reco\")\n",
    "            accept+=1\n",
    "            S_new = reco\n",
    "        else:\n",
    "            #print(\"Random choice\")\n",
    "            S_new = RandomChoice(S_old,K,cumulP0)\n",
    "    #\n",
    "    elif user==3:\n",
    "        #user decision based only on whether there is at least one item from XX recommended\n",
    "        if reco in set(XX):\n",
    "            #print(\"Follow reco\")\n",
    "            accept+=1\n",
    "            S_new = reco\n",
    "        else:\n",
    "            #print(\"Random choice\")\n",
    "            S_new = RandomChoice(S_old,K,cumulP0)\n",
    "    #\n",
    "    return S_new, accept"
   ]
  },
  {
   "cell_type": "code",
   "execution_count": null,
   "metadata": {
    "id": "SO81HFr67N7n"
   },
   "outputs": [],
   "source": [
    "def SARSA1(epsip0,p0,lam,K,co,a,Qo,T_epis,gamma,XX,user,method,PENALTY):\n",
    "    # gamma is the learning rate\n",
    "    # lam is the original discount\n",
    "    # a is the retention ratio\n",
    "    #\n",
    "    # Create view session-lengths for all episodes\n",
    "    Len = np.random.geometric(1-lam,T_epis)\n",
    "    S0L = list()\n",
    "    BIG = 1000000000000\n",
    "    cumulP0 = np.cumsum(p0)\n",
    "    cost = list()\n",
    "    telE=0 #counts episodes\n",
    "    Q=Qo\n",
    "    #\n",
    "    aM = list()\n",
    "    #\n",
    "    for El in Len:\n",
    "        telE+=1 # increase episode index\n",
    "        telEs=0 # counts steps of an episode\n",
    "        S0L2 = list() # list of saved episode states\n",
    "        cc=0 # initialises episode cost\n",
    "        # STATE\n",
    "        S_old = np.random.randint(K) # user chooses initial state\n",
    "        #print(\"t0=\",telE,\"S0=\",S_old)\n",
    "        #\n",
    "        #ACTION epsilon-greedy\n",
    "        epsip = epsip0 #(Exploration - Exploitation tradeoff)\n",
    "        #\n",
    "        if np.random.binomial(1,epsip,1) == 0:\n",
    "            # Exploit the best strategy\n",
    "            #print('BEST reco')\n",
    "            Q_local = Q[S_old].copy()\n",
    "            Q_local[S_old]=BIG\n",
    "            reco = np.argmin(Q_local)\n",
    "            del Q_local\n",
    "        else:\n",
    "            #print('RANDOM reco')\n",
    "            # Explore among others\n",
    "            reco = np.random.choice(np.delete(list(np.arange(K)),[S_old]))\n",
    "        #\n",
    "        #==================================================================\n",
    "        # The episode starts loopin'\n",
    "        #\n",
    "        for tt in range(El):\n",
    "            #update discounted cost (REWARD)\n",
    "            cc+=((lam)**telEs)*co[S_old]\n",
    "            telEs+=1\n",
    "            #===============================================\n",
    "            # NEXT STATE S' (specific user behaviour HERE)\n",
    "            (S_new, accept) = behaveN1(user,reco,a,S_old,K,cumulP0,XX)\n",
    "            #\n",
    "            #===============================================\n",
    "            #NEW ACTION A' (epsilon-greedy action)\n",
    "            if np.random.binomial(1,epsip,1) ==0:\n",
    "                #print('BEST reco')\n",
    "                Q_local = Q[S_new].copy()\n",
    "                Q_local[S_new]=BIG\n",
    "                reco_new = np.argmin(Q_local)\n",
    "                del Q_local\n",
    "            else:\n",
    "                #print('RANDOM reco')\n",
    "                reco_new = np.random.choice(np.delete(list(np.arange(K)),[S_new]))\n",
    "            ################\n",
    "            #update Q\n",
    "            att = gamma#/(math.sqrt(tt+1))\n",
    "            #print(\"S_old,reco,S_new,reco_new=\",S_old,reco,S_new,reco_new)\n",
    "            #\n",
    "            if method=='min':\n",
    "                Q[S_old,reco]+= att*(co[S_old]+lam*Q[S_new,reco_new]-Q[S_old,reco])\n",
    "            elif method=='penalty':\n",
    "                if accept ==1:\n",
    "                    Q[S_old,reco]+= att*(co[S_old]+lam*Q[S_new,reco_new]-Q[S_old,reco])\n",
    "                elif accept==0:\n",
    "                    Q[S_old,reco]+= att*(co[S_old]+PENALTY+lam*Q[S_new,reco_new]-Q[S_old,reco])\n",
    "            #\n",
    "            S0L2.append(S_old)\n",
    "            #\n",
    "            S_old = S_new\n",
    "            #\n",
    "            reco = reco_new\n",
    "            #\n",
    "        S0L.append(S0L2)\n",
    "        cost.append(cc)\n",
    "    #\n",
    "    return [cost, Q, S0L]"
   ]
  },
  {
   "cell_type": "code",
   "execution_count": null,
   "metadata": {
    "colab": {
     "base_uri": "https://localhost:8080/"
    },
    "id": "FRNhECU34wo_",
    "outputId": "8810083c-3c9a-47ff-cb08-2145ab3b3673"
   },
   "outputs": [
    {
     "name": "stdout",
     "output_type": "stream",
     "text": [
      "Runtime: 0.0001 seconds\n"
     ]
    }
   ],
   "source": [
    "############## run-code SARSA1 ##################\n",
    "tic = time.perf_counter()\n",
    "if N==1:\n",
    "    cost, Q, S0L = SARSA1(epsip0,p0in,lam,K,co,a,Qo,T_epis,gamma,XX,user,method,PENALTY)\n",
    "#\n",
    "toc = time.perf_counter()\n",
    "print(f\"Runtime: {toc - tic:0.4f} seconds\")"
   ]
  },
  {
   "cell_type": "code",
   "execution_count": null,
   "metadata": {
    "id": "EM_8YlqX7N7o"
   },
   "outputs": [],
   "source": [
    "def output1(Q,K):\n",
    "    print('Policy_N1=',np.argmin(Q,axis=1),'\\n')\n",
    "    kk = 2\n",
    "    #print('Q[',kk,']',np.round(Q[kk],5),'\\n')\n",
    "    # optimal policy\n",
    "    PP = np.zeros((K,K))\n",
    "    for k in range(K):\n",
    "        Ps  = np.argmin(Q[k])\n",
    "        PP[k][Ps]=1\n",
    "    print('Policy_N1=',PP)"
   ]
  },
  {
   "cell_type": "code",
   "execution_count": null,
   "metadata": {
    "id": "GB7ZbNMl4wo_"
   },
   "outputs": [],
   "source": [
    "############## print results SARSA1 ##################\n",
    "if N==1:\n",
    "    output1(Q,K)"
   ]
  },
  {
   "cell_type": "markdown",
   "metadata": {
    "id": "iODLCf9d4wpA"
   },
   "source": [
    "### B.2 Q-learn (off-policy) N=1 dimension"
   ]
  },
  {
   "cell_type": "code",
   "execution_count": null,
   "metadata": {
    "id": "54gPnHd47N7p"
   },
   "outputs": [],
   "source": [
    "def QL1(epsip0,p0in,lam,K,co,a,Qo,T_epis,gamma,XX,user,method,PENALTY):\n",
    "    # gamma is the learning rate\n",
    "    # lam is the original discount\n",
    "    # a is the retention ratio\n",
    "    # q is the desire constraint level\n",
    "    #\n",
    "    Len = np.random.geometric(1-lam,T_epis)\n",
    "    BIG = 10000000000\n",
    "    S0L = list()\n",
    "    cumulP0 = np.cumsum(p0)\n",
    "    cost = list()\n",
    "    telE=0 #counts episodes\n",
    "    Q=Qo\n",
    "    #\n",
    "    aM =list()\n",
    "    #\n",
    "    for El in Len:\n",
    "        telE+=1\n",
    "        telEs=0 # counts steps of an episode\n",
    "        S0L2 = list() # list of episode states\n",
    "        cc=0 # initialises episode cost\n",
    "        # STATE\n",
    "        S_old = np.random.randint(K) # user chooses initial state\n",
    "        #print(\"t0=\",telE,\"S0=\",S_old)\n",
    "        #\n",
    "        # The episode starts loopin'\n",
    "        #\n",
    "        for tt in range(El):\n",
    "            #update discounted cost (REWARD)\n",
    "            cc+=((lam)**telEs)*co[S_old]\n",
    "            telEs+=1\n",
    "            #\n",
    "            #ACTION epsilon-greedy\n",
    "            epsip = epsip0\n",
    "            if np.random.binomial(1,epsip,1) ==0:\n",
    "                # Exploit the best strategy\n",
    "                Q_local = Q[S_old].copy()\n",
    "                Q_local[S_old]=BIG\n",
    "                reco = np.argmin((Q_local[S_old]))\n",
    "                del Q_local\n",
    "            else:\n",
    "                # Explore among others\n",
    "                reco = np.random.choice(np.delete(list(np.arange(K)),[S_old]))\n",
    "            #\n",
    "            #=========================================================\n",
    "            # NEXT STATE S' (specific user behaviour HERE)\n",
    "            (S_new, accept) = behaveN1(user,reco,a,S_old,K,cumulP0,XX)\n",
    "            #=========================================================\n",
    "            #update Q\n",
    "            att = gamma#/(math.sqrt(tt+1))\n",
    "            #print(\"S_old,reco,S_new=\",S_old,reco,S_new)\n",
    "            #\n",
    "            if method == 'min':\n",
    "                Q[S_old,reco]+= att*(co[S_old]+lam*min(Q[S_new])-Q[S_old,reco])\n",
    "            elif method == 'penalty':\n",
    "                if accept == 1:\n",
    "                    Q[S_old,reco]+= att*(co[S_old]+lam*min(Q[S_new])-Q[S_old,reco])\n",
    "                elif accept == 0:\n",
    "                    Q[S_old,reco]+= att*(co[S_old]+PENALTY+lam*min(Q[S_new])-Q[S_old,reco])\n",
    "            #\n",
    "            S0L2.append(S_old)\n",
    "            #\n",
    "            S_old = S_new\n",
    "            #\n",
    "        S0L.append(S0L2)\n",
    "        cost.append(cc)\n",
    "    #\n",
    "    return [cost, Q, S0L]"
   ]
  },
  {
   "cell_type": "code",
   "execution_count": null,
   "metadata": {
    "colab": {
     "base_uri": "https://localhost:8080/"
    },
    "id": "1SMzlPGX4wpA",
    "outputId": "7145c3bc-62d5-47db-82c2-a7c99964e9f2"
   },
   "outputs": [
    {
     "name": "stdout",
     "output_type": "stream",
     "text": [
      "Runtime: 0.0001 seconds\n"
     ]
    }
   ],
   "source": [
    "############## run-code QL1 ##################\n",
    "tic = time.perf_counter()\n",
    "if N==1:\n",
    "    cost_Q, Q_Q, S0L_Q = QL1(epsip0,p0in,lam,K,co,a,Qo,T_epis,gamma,XX,user,method,PENALTY)\n",
    "#\n",
    "toc = time.perf_counter()\n",
    "print(f\"Runtime: {toc - tic:0.4f} seconds\")"
   ]
  },
  {
   "cell_type": "code",
   "execution_count": null,
   "metadata": {
    "id": "RkfEJPV74wpA"
   },
   "outputs": [],
   "source": [
    "############### print results QL1 ######################\n",
    "if N==1:\n",
    "    output1(Q_Q,K)"
   ]
  },
  {
   "cell_type": "markdown",
   "metadata": {
    "id": "qqOJc75j4wpB"
   },
   "source": [
    "### B.3: Q-learn slate N>=1 dimensions"
   ]
  },
  {
   "cell_type": "markdown",
   "metadata": {
    "id": "GcQrEkmD4wpB"
   },
   "source": [
    "First initialize the full Q-table with all possible combinations per state. Here, given a state, the entry of a Q-table represents a different combination without replacement of $N$ items from the library of size $K$."
   ]
  },
  {
   "cell_type": "code",
   "execution_count": null,
   "metadata": {
    "id": "XEF0doPv4wpB"
   },
   "outputs": [],
   "source": [
    "import itertools\n",
    "actions = list()\n",
    "for x in itertools.combinations(np.arange(K),N):\n",
    "    actions.append(x)"
   ]
  },
  {
   "cell_type": "code",
   "execution_count": null,
   "metadata": {
    "colab": {
     "base_uri": "https://localhost:8080/"
    },
    "id": "fBzJiitP4wpB",
    "outputId": "149bc1f4-0971-4afd-96c3-e0e633be924e"
   },
   "outputs": [
    {
     "name": "stdout",
     "output_type": "stream",
     "text": [
      "(0, 1, 2)\n"
     ]
    }
   ],
   "source": [
    "print(actions[0])"
   ]
  },
  {
   "cell_type": "code",
   "execution_count": null,
   "metadata": {
    "id": "1hOkZ-FB4wpB"
   },
   "outputs": [],
   "source": [
    "t = 0\n",
    "indx = {}\n",
    "for x in actions:\n",
    "    indx[x]=t\n",
    "    t+=1"
   ]
  },
  {
   "cell_type": "markdown",
   "metadata": {
    "id": "eqV_cmXo4wpC"
   },
   "source": [
    "We need to build a Q0 initialisation slate"
   ]
  },
  {
   "cell_type": "code",
   "execution_count": null,
   "metadata": {
    "id": "ol9pcnkG4wpC"
   },
   "outputs": [],
   "source": [
    "#choice between {'binary','random','zero'}\n",
    "initQ = 'binary'"
   ]
  },
  {
   "cell_type": "code",
   "execution_count": null,
   "metadata": {
    "id": "HIMnveet4wpD"
   },
   "outputs": [],
   "source": [
    "BIG = 2000000000000\n",
    "if initQ == 'binary':\n",
    "    Q0_slate = np.zeros((K,len(actions)))\n",
    "    for n in range(K):\n",
    "        for x in actions:\n",
    "            if n in x:\n",
    "                Q0_slate[n][indx[x]] = BIG\n",
    "elif initQ == 'random':\n",
    "    #Alternative initialization just random\n",
    "    np.random.seed(99)\n",
    "    Q0_slate = np.random.uniform(0,BIG,(K,len(actions)))\n",
    "elif initQ == 'zero':\n",
    "    Q0_slate = np.zeros((K,len(actions)))\n",
    "#\n",
    "#print(Q0_slate)"
   ]
  },
  {
   "cell_type": "code",
   "execution_count": null,
   "metadata": {
    "id": "I5J0UGwy7N7q"
   },
   "outputs": [],
   "source": [
    "def behaveNN(user,reco,a,S_old,K,cumulP0,XX):\n",
    "    accept = 0\n",
    "    if user ==1:\n",
    "        #user decision (based on retention \"a\")\n",
    "        if np.random.binomial(1,a,1) ==1:\n",
    "            #print(\"Follow reco\")\n",
    "            accept+=1\n",
    "            S_new = np.random.choice(list(reco))\n",
    "        else:\n",
    "            #print(\"Random choice\")\n",
    "            S_new = RandomChoice(S_old,K,cumulP0)\n",
    "    #\n",
    "    elif user ==2:\n",
    "        #user decision based on retention and if there is one item not in XX\n",
    "        if np.random.binomial(1,a,1) ==1 and (len(set(reco).intersection(set(np.arange(K))-(set(XX))))>0):\n",
    "            #print(\"Follow reco\")\n",
    "            accept+=1\n",
    "            S_new = np.random.choice(list(set(reco).intersection(set(np.arange(K))-(set(XX)))))\n",
    "        else:\n",
    "            #print(\"Random choice\")\n",
    "            S_new = RandomChoice(S_old,K,cumulP0)\n",
    "    #\n",
    "    elif user==3:\n",
    "        #user decision based only on whether there is at least one item from XX recommended\n",
    "        if len(set(reco).intersection(set(XX)))>0:\n",
    "            #print(\"Follow reco\")\n",
    "            accept+=1\n",
    "            S_new = np.random.choice(reco)\n",
    "        else:\n",
    "            #print(\"Random choice\")\n",
    "            S_new = RandomChoice(S_old,K,cumulP0)\n",
    "    #\n",
    "    return S_new, accept"
   ]
  },
  {
   "cell_type": "code",
   "execution_count": null,
   "metadata": {
    "id": "PemR4TvF7N7q"
   },
   "outputs": [],
   "source": [
    "def QLN(epsip0,p0in,lam,K,co,a,Qo,T_epis,gamma,XX,user,method,PENALTY):\n",
    "    # gamma is the learning rate\n",
    "    # lam is the original discount\n",
    "    # a is the retention ratio\n",
    "    # q is the desire constraint level\n",
    "    #\n",
    "    Len = np.random.geometric(1-lam,T_epis)\n",
    "    BIG = 10000000000\n",
    "    T0 = .01\n",
    "    S0L = list()\n",
    "    cumulP0 = np.cumsum(p0)\n",
    "    cost = list()\n",
    "    telE=0 #counts episodes\n",
    "    Q=Qo.copy()\n",
    "    #\n",
    "    for El in Len:\n",
    "        #print('LENGTH=',El)\n",
    "        telE+=1\n",
    "        telEs=0 # counts steps of an episode\n",
    "        S0L2 = list() # list of episode states\n",
    "        cc=0 # initialises episode cost\n",
    "        epsip = epsip0 #exploration\n",
    "        # STATE\n",
    "        S_old = np.random.randint(K) # user chooses initial state\n",
    "        #print(\"t0=\",telE,\"S0=\",S_old)\n",
    "        #\n",
    "        # The episode starts loopin'\n",
    "        #\n",
    "        for tt in range(El):\n",
    "            #update discounted cost (REWARD)\n",
    "            cc+=((lam)**telEs)*co[S_old]\n",
    "            telEs+=1\n",
    "            #\n",
    "            #ACTION epsilon-greedy\n",
    "            if np.random.binomial(1,epsip,1) ==0:\n",
    "                # Exploit the best strategy; do not account for batches including S_old\n",
    "                #print('BEST strategy')\n",
    "                Q_local = Q[S_old].copy()\n",
    "                for x in actions:\n",
    "                    if S_old in x:\n",
    "                        Q_local[indx[x]]=BIG\n",
    "                reco = list(indx.keys())[list(indx.values()).index(np.argmin((Q_local)))]\n",
    "                del Q_local\n",
    "            else:\n",
    "                #print('Explore')\n",
    "                indx_cp = list(indx.values()).copy()\n",
    "                for x in actions:\n",
    "                    if S_old in x:\n",
    "                        indx_cp.remove(indx[x])\n",
    "                reco = list(indx.keys())[list(indx.values()).index(np.random.choice(indx_cp))]\n",
    "            #\n",
    "            #=========================================================\n",
    "            # NEXT STATE S'\n",
    "            #\n",
    "            (S_new, accept) = behaveNN(user,reco,a,S_old,K,cumulP0,XX)\n",
    "            #=========================================================\n",
    "            #update Q\n",
    "            att = gamma#/(math.sqrt(tt+1))\n",
    "            #print(\"S_old,reco,S_new=\",S_old,reco,S_new)\n",
    "            #\n",
    "            S0L2.append(S_old)\n",
    "            #\n",
    "            if method=='min':\n",
    "                Q[S_old,indx[reco]]+= att*(co[S_old]+lam*min(Q[S_new])-Q[S_old,indx[reco]])\n",
    "            elif method=='penalty':\n",
    "                # Option to charge extra PENALTY if accept=0\n",
    "                if accept==1:\n",
    "                    Q[S_old,indx[reco]]+= att*(co[S_old]+lam*min(Q[S_new])-Q[S_old,indx[reco]])\n",
    "                else:\n",
    "                    Q[S_old,indx[reco]]+= att*(co[S_old]+PENALTY+lam*min(Q[S_new])-Q[S_old,indx[reco]])\n",
    "            #\n",
    "            S0L2.append(S_old)\n",
    "            #\n",
    "            S_old = S_new\n",
    "            #\n",
    "        S0L.append(S0L2)\n",
    "        cost.append((1-lam)*cc)\n",
    "    #\n",
    "    return [cost, Q, S0L]"
   ]
  },
  {
   "cell_type": "markdown",
   "metadata": {
    "id": "hq6bxnHY4wpD"
   },
   "source": [
    "Now run the method: selection choices \\{min,penalty\\}"
   ]
  },
  {
   "cell_type": "code",
   "execution_count": null,
   "metadata": {
    "colab": {
     "base_uri": "https://localhost:8080/"
    },
    "id": "OvBwGy_A4wpD",
    "outputId": "bb596ad5-1016-492e-d4d0-e341d8f1fcb7"
   },
   "outputs": [
    {
     "name": "stdout",
     "output_type": "stream",
     "text": [
      "Runtime: 10.0026 seconds\n"
     ]
    }
   ],
   "source": [
    "############## run-code QLN ##################\n",
    "tic = time.perf_counter()\n",
    "#\n",
    "cost_Q, Q_Q, S0L_Q = QLN(epsip0,p0in,lam,K,co,a,Q0_slate,T_epis,gamma,XX,user,method,PENALTY)\n",
    "#\n",
    "toc = time.perf_counter()\n",
    "#\n",
    "runtimeC = toc-tic\n",
    "print(f\"Runtime: {runtimeC:0.4f} seconds\")"
   ]
  },
  {
   "cell_type": "code",
   "execution_count": null,
   "metadata": {
    "id": "lbVWb3Pa7N7s"
   },
   "outputs": [],
   "source": [
    "def outputN(Q,K,indx):\n",
    "    BIG = 1000000000000\n",
    "    #kk = 2\n",
    "    #print('Q[',kk,']',np.round(Q[kk],5),'\\n')\n",
    "    # optimal policy\n",
    "    PP = np.zeros((K,K))\n",
    "    Best_action = list()\n",
    "    for k in range(K):\n",
    "        slateK = np.argmin(Q[k])\n",
    "        bk = list(indx.keys())[list(indx.values()).index(slateK)]\n",
    "        Best_action.append(bk)\n",
    "        PP[k][list(bk)] = 1\n",
    "    print('Best_slate=',Best_action,'\\n')\n",
    "    print('Policy_NN=',PP)"
   ]
  },
  {
   "cell_type": "code",
   "execution_count": null,
   "metadata": {
    "colab": {
     "base_uri": "https://localhost:8080/"
    },
    "id": "snmpbKT94wpE",
    "outputId": "d52c400f-192a-4e35-c751-b77e0bfe0f10"
   },
   "outputs": [
    {
     "name": "stdout",
     "output_type": "stream",
     "text": [
      "Best_slate= [(2, 6, 8), (3, 4, 7), (0, 1, 6), (0, 8, 9), (5, 7, 9), (0, 2, 7), (0, 1, 8), (2, 6, 8), (1, 5, 6), (0, 2, 3)] \n",
      "\n",
      "Policy_NN= [[0. 0. 1. 0. 0. 0. 1. 0. 1. 0.]\n",
      " [0. 0. 0. 1. 1. 0. 0. 1. 0. 0.]\n",
      " [1. 1. 0. 0. 0. 0. 1. 0. 0. 0.]\n",
      " [1. 0. 0. 0. 0. 0. 0. 0. 1. 1.]\n",
      " [0. 0. 0. 0. 0. 1. 0. 1. 0. 1.]\n",
      " [1. 0. 1. 0. 0. 0. 0. 1. 0. 0.]\n",
      " [1. 1. 0. 0. 0. 0. 0. 0. 1. 0.]\n",
      " [0. 0. 1. 0. 0. 0. 1. 0. 1. 0.]\n",
      " [0. 1. 0. 0. 0. 1. 1. 0. 0. 0.]\n",
      " [1. 0. 1. 1. 0. 0. 0. 0. 0. 0.]]\n"
     ]
    }
   ],
   "source": [
    "############### print results QLN ######################\n",
    "outputN(Q_Q,K,indx)"
   ]
  },
  {
   "cell_type": "markdown",
   "metadata": {
    "id": "e3NuWYhS4wpL"
   },
   "source": [
    "Plot cost over Episodes"
   ]
  },
  {
   "cell_type": "code",
   "execution_count": null,
   "metadata": {
    "id": "klJGn_6b4wpM"
   },
   "outputs": [],
   "source": [
    "# Step 1.Apply smoothing (if no smoothing: window=1)\n",
    "window = 200 #half window"
   ]
  },
  {
   "cell_type": "code",
   "execution_count": null,
   "metadata": {
    "id": "w4C5jSe37N7s"
   },
   "outputs": [],
   "source": [
    "def smooth(cost,window,T_epis):\n",
    "    smooth_cost = list()\n",
    "    for t in range(T_epis)[window+1:T_epis-window-1]:\n",
    "        smooth_cost.append(np.sum(cost[t-window:t+window])/2/window)\n",
    "    #\n",
    "    return smooth_cost"
   ]
  },
  {
   "cell_type": "code",
   "execution_count": null,
   "metadata": {
    "id": "GnigA4_p4wpM"
   },
   "outputs": [],
   "source": [
    "smooth_cost_Q = smooth(cost_Q,window,T_epis)\n",
    "#"
   ]
  },
  {
   "cell_type": "code",
   "execution_count": null,
   "metadata": {
    "colab": {
     "base_uri": "https://localhost:8080/",
     "height": 283
    },
    "id": "O8ZcHGJ-4wpM",
    "outputId": "f9d6da6a-4fe8-4083-a3e3-5f18c815ef58"
   },
   "outputs": [
    {
     "data": {
      "image/png": "[encoded data removed]",
      "text/plain": [
       "<Figure size 432x288 with 1 Axes>"
      ]
     },
     "metadata": {
      "needs_background": "light"
     },
     "output_type": "display_data"
    }
   ],
   "source": [
    "# Step 2.Plot raw discounted cost over episodes\n",
    "plt.plot(np.arange(T_epis)[window+1:T_epis-window-1],np.array(smooth_cost_Q),'b')\n",
    "plt.xlabel('Number of Episodes')\n",
    "plt.ylabel(\"Episode Value (smoothed {})\".format(window))\n",
    "plt.xscale('log')\n",
    "#plt.savefig('QN_User2_200K_smooth200.png')"
   ]
  },
  {
   "cell_type": "markdown",
   "metadata": {
    "id": "LbhYiNobl5Lr"
   },
   "source": [
    "### B.4: SARSA slate N>=1 dimensions"
   ]
  },
  {
   "cell_type": "code",
   "execution_count": null,
   "metadata": {
    "id": "PpBmVBcLlkh_"
   },
   "outputs": [],
   "source": [
    "def SARSAN(epsip0,p0in,lam,K,co,a,Qo,T_epis,gamma,XX,user,method,PENALTY):\n",
    "    # gamma is the learning rate\n",
    "    # lam is the original discount\n",
    "    # a is the retention ratio\n",
    "    # q is the desire constraint level\n",
    "    #\n",
    "    Len = np.random.geometric(1-lam,T_epis)\n",
    "    BIG = 10000000000\n",
    "    T0 = .01\n",
    "    S0L = list()\n",
    "    cumulP0 = np.cumsum(p0)\n",
    "    cost = list()\n",
    "    telE=0 #counts episodes\n",
    "    Q=Qo.copy()\n",
    "    #\n",
    "    for El in Len:\n",
    "        #print('LENGTH=',El)\n",
    "        telE+=1\n",
    "        if telE%10000 ==0:\n",
    "            print('episode:',telE)\n",
    "        telEs=0 # counts steps of an episode\n",
    "        S0L2 = list() # list of episode states\n",
    "        cc=0 # initialises episode cost\n",
    "        epsip = epsip0 #exploration\n",
    "        # STATE\n",
    "        S_old = np.random.randint(K) # user chooses initial state\n",
    "        #print(\"t0=\",telE,\"S0=\",S_old)\n",
    "        #\n",
    "        #ACTION epsilon-greedy\n",
    "        if np.random.binomial(1,epsip,1) ==0:\n",
    "            # Exploit the best strategy; do not account for batches including S_old\n",
    "            #print('BEST strategy')\n",
    "            Q_local = Q[S_old].copy()\n",
    "            for x in actions:\n",
    "                if S_old in x:\n",
    "                    Q_local[indx[x]]=BIG\n",
    "            reco = list(indx.keys())[list(indx.values()).index(np.argmin((Q_local)))]\n",
    "            del Q_local\n",
    "        else:\n",
    "            #print('Explore')\n",
    "            indx_cp = list(indx.values()).copy()\n",
    "            for x in actions:\n",
    "                if S_old in x:\n",
    "                    indx_cp.remove(indx[x])\n",
    "            reco = list(indx.keys())[list(indx.values()).index(np.random.choice(indx_cp))]\n",
    "            #\n",
    "        #==================================================\n",
    "        # The episode starts loopin'\n",
    "        #\n",
    "        for tt in range(El):\n",
    "            #update discounted cost (REWARD)\n",
    "            cc+=((lam)**telEs)*co[S_old]\n",
    "            telEs+=1\n",
    "            #\n",
    "            #=========================================================\n",
    "            # NEXT STATE S'\n",
    "            #\n",
    "            (S_new, accept) = behaveNN(user,reco,a,S_old,K,cumulP0,XX)\n",
    "            #=========================================================\n",
    "            #\n",
    "            # NEW ACTION epsilon-greedy\n",
    "            if np.random.binomial(1,epsip,1) == 0:\n",
    "                # Exploit the best strategy; do not account for batches including S_new\n",
    "                #print('BEST strategy')\n",
    "                Q_local = Q[S_new].copy()\n",
    "                for x in actions:\n",
    "                    if S_new in x:\n",
    "                        Q_local[indx[x]]=BIG\n",
    "                reco_new = list(indx.keys())[list(indx.values()).index(np.argmin((Q_local)))]\n",
    "                del Q_local\n",
    "            else:\n",
    "                #print('Explore')\n",
    "                indx_cp = list(indx.values()).copy()\n",
    "                for x in actions:\n",
    "                    if S_new in x:\n",
    "                        indx_cp.remove(indx[x])\n",
    "                reco_new = list(indx.keys())[list(indx.values()).index(np.random.choice(indx_cp))]\n",
    "            #\n",
    "            #=========================================================\n",
    "            #\n",
    "            #update Q\n",
    "            att = gamma#/(math.sqrt(tt+1))\n",
    "            #print(\"S_old,reco,S_new=\",S_old,reco,S_new)\n",
    "            #\n",
    "            S0L2.append(S_old)\n",
    "            #\n",
    "            if method=='min':\n",
    "                Q[S_old,indx[reco]]+= att*(co[S_old]+lam*Q[S_new,indx[reco_new]]-Q[S_old,indx[reco]])\n",
    "            elif method=='penalty':\n",
    "                # Option to charge extra PENALTY if accept=0\n",
    "                if accept==1:\n",
    "                    Q[S_old,indx[reco]]+= att*(co[S_old]+lam*Q[S_new,indx[reco_new]]-Q[S_old,indx[reco]])\n",
    "                else:\n",
    "                    Q[S_old,indx[reco]]+= att*(co[S_old]+PENALTY+lam*Q[S_new,indx[reco_new]]-Q[S_old,indx[reco]])\n",
    "            #\n",
    "            S0L2.append(S_old)\n",
    "            #\n",
    "            S_old = S_new\n",
    "            #\n",
    "            reco = reco_new\n",
    "            #\n",
    "        S0L.append(S0L2)\n",
    "        cost.append((1-lam)*cc)\n",
    "    #\n",
    "    return [cost, Q, S0L]"
   ]
  },
  {
   "cell_type": "code",
   "execution_count": null,
   "metadata": {
    "colab": {
     "base_uri": "https://localhost:8080/"
    },
    "id": "3tE974lmmDja",
    "outputId": "8cb8a52f-bdf5-4cd1-f5ae-e70fc1a6161c"
   },
   "outputs": [
    {
     "name": "stdout",
     "output_type": "stream",
     "text": [
      "Runtime: 9.7434 seconds\n"
     ]
    }
   ],
   "source": [
    "############## run-code QLN ##################\n",
    "tic = time.perf_counter()\n",
    "#\n",
    "cost_SARN, Q_SARN, S0L_SARN = QLN(epsip0,p0in,lam,K,co,a,Q0_slate,T_epis,gamma,XX,user,method,PENALTY)\n",
    "#\n",
    "toc = time.perf_counter()\n",
    "#\n",
    "runtimeC = toc-tic\n",
    "print(f\"Runtime: {runtimeC:0.4f} seconds\")"
   ]
  },
  {
   "cell_type": "code",
   "execution_count": null,
   "metadata": {
    "colab": {
     "base_uri": "https://localhost:8080/"
    },
    "id": "TUdOheA_mTko",
    "outputId": "012e6936-98ac-402f-bf9e-54da770cb02c"
   },
   "outputs": [
    {
     "name": "stdout",
     "output_type": "stream",
     "text": [
      "Best_slate= [(2, 3, 7), (0, 3, 4), (0, 4, 6), (0, 4, 5), (3, 5, 9), (1, 3, 7), (5, 7, 9), (1, 4, 8), (0, 2, 9), (1, 6, 7)] \n",
      "\n",
      "Policy_NN= [[0. 0. 1. 1. 0. 0. 0. 1. 0. 0.]\n",
      " [1. 0. 0. 1. 1. 0. 0. 0. 0. 0.]\n",
      " [1. 0. 0. 0. 1. 0. 1. 0. 0. 0.]\n",
      " [1. 0. 0. 0. 1. 1. 0. 0. 0. 0.]\n",
      " [0. 0. 0. 1. 0. 1. 0. 0. 0. 1.]\n",
      " [0. 1. 0. 1. 0. 0. 0. 1. 0. 0.]\n",
      " [0. 0. 0. 0. 0. 1. 0. 1. 0. 1.]\n",
      " [0. 1. 0. 0. 1. 0. 0. 0. 1. 0.]\n",
      " [1. 0. 1. 0. 0. 0. 0. 0. 0. 1.]\n",
      " [0. 1. 0. 0. 0. 0. 1. 1. 0. 0.]]\n"
     ]
    }
   ],
   "source": [
    "############### print results QLN ######################\n",
    "outputN(Q_SARN,K,indx)"
   ]
  },
  {
   "cell_type": "code",
   "execution_count": null,
   "metadata": {
    "id": "Gy5Jkz5CmZE1"
   },
   "outputs": [],
   "source": [
    "smooth_cost_SARN = smooth(cost_SARN,window,T_epis)\n",
    "#"
   ]
  },
  {
   "cell_type": "code",
   "execution_count": null,
   "metadata": {
    "colab": {
     "base_uri": "https://localhost:8080/",
     "height": 283
    },
    "id": "RJenUDx_mbhH",
    "outputId": "3719ff53-6bc9-4436-942c-2f43ee2cc4b7"
   },
   "outputs": [
    {
     "data": {
      "image/png": "[encoded data removed]",
      "text/plain": [
       "<Figure size 432x288 with 1 Axes>"
      ]
     },
     "metadata": {
      "needs_background": "light"
     },
     "output_type": "display_data"
    }
   ],
   "source": [
    "# Step 2.Plot raw discounted cost over episodes\n",
    "plt.plot(np.arange(T_epis)[window+1:T_epis-window-1],np.array(smooth_cost_SARN),'c')\n",
    "plt.xlabel('Number of Episodes')\n",
    "plt.ylabel(\"Episode Value (smoothed {})\".format(window))\n",
    "plt.xscale('log')\n",
    "#plt.savefig('SARSAN_User2_200K_smooth200.png')"
   ]
  },
  {
   "cell_type": "markdown",
   "metadata": {
    "id": "pifF9xQq4wpN"
   },
   "source": [
    "## C. SlateFree"
   ]
  },
  {
   "cell_type": "markdown",
   "metadata": {
    "id": "lwKYJyjk4wpN"
   },
   "source": [
    "### C.1 SlateFree-Q with item frequencies (N>=1)"
   ]
  },
  {
   "cell_type": "code",
   "execution_count": null,
   "metadata": {
    "id": "UNlwM6Nx7N7t"
   },
   "outputs": [],
   "source": [
    "def Explore(N,K,S):\n",
    "    reco = []\n",
    "    for n in range(N):\n",
    "        ch = list(np.arange(K))\n",
    "        reco_plus = reco+[S]\n",
    "        ch = np.delete(ch,reco_plus)\n",
    "        add = np.random.choice(ch)\n",
    "        reco = reco+[add]\n",
    "        del ch\n",
    "    return reco"
   ]
  },
  {
   "cell_type": "code",
   "execution_count": null,
   "metadata": {
    "id": "CN6Bm6aN7N7t"
   },
   "outputs": [],
   "source": [
    "def QL_SlateFree(N,epsip0,p0in,lam,K,co,a,Qo_item,T_epis,gamma,XX,user,method,PENALTY):\n",
    "    # N >= 1 is the number of recommendations\n",
    "    # gamma is the learning rate\n",
    "    # lam is the original discount\n",
    "    # a is the retention ratio\n",
    "    # q is the desire constraint level\n",
    "    #\n",
    "    Len = np.random.geometric(1-lam,T_epis)\n",
    "    BIG = 1000000000\n",
    "    S0L = list()\n",
    "    cumulP0 = np.cumsum(p0)\n",
    "    cost = list()\n",
    "    telE=0 #counts episodes\n",
    "    Q=Qo_item.copy()\n",
    "    #\n",
    "    #\n",
    "    for El in Len:\n",
    "        telE+=1\n",
    "        telEs=0 # counts steps of an episode\n",
    "        S0L2 = list() # list of episode states\n",
    "        cc=0 # initialises episode cost\n",
    "        # STATE\n",
    "        S_old = np.random.randint(K) # user chooses initial state\n",
    "        #print(\"t0=\",telE,\"S0=\",S_old)\n",
    "        #\n",
    "        # The episode starts loopin'\n",
    "        #\n",
    "        for tt in range(El):\n",
    "            #update discounted cost (REWARD)\n",
    "            cc+=((lam)**telEs)*co[S_old]\n",
    "            telEs+=1\n",
    "            #\n",
    "            #ACTION epsilon-greedy\n",
    "            epsip = epsip0\n",
    "            reco=[]\n",
    "            if np.random.binomial(1,epsip,1) ==0:\n",
    "                # Exploit the best strategy\n",
    "                #print('BEST')\n",
    "                Q_local = Q[S_old].copy()\n",
    "                #\n",
    "                for n in range(N):\n",
    "                    if n==0:\n",
    "                        Q_local[S_old]=BIG\n",
    "                        reco=[np.argmin(Q_local)]\n",
    "                    else:\n",
    "                        reco.extend([np.argmin(Q_local)])\n",
    "                    Q_local[np.argmin(Q_local)]=BIG\n",
    "                del Q_local\n",
    "            else:\n",
    "                # Explore among others\n",
    "                #print('Explore')\n",
    "                reco = Explore(N,K,S_old)\n",
    "                #\n",
    "            #================================================================\n",
    "            # NEXT STATE S'\n",
    "            #================================================================\n",
    "            (S_new, accept) = behaveNN(user,reco,a,S_old,K,cumulP0,XX)\n",
    "            #\n",
    "            #================================================================\n",
    "            #update Q\n",
    "            att = gamma#/(math.sqrt(tt+1))\n",
    "            #print(\"S_old,reco,S_new=\",S_old,reco,S_new)\n",
    "            #\n",
    "            PARALLUP = 0 #option to test the importance of N parallel updates. Standard value is 0.\n",
    "            #If e.g. PARALLUP = 2, then the update step below applies to only N-2 items.\n",
    "            #\n",
    "            for n in range(N):\n",
    "                if n>=PARALLUP:\n",
    "                    if method=='min':\n",
    "                        Q[S_old,reco[n]]+= att*(co[S_old]+lam*min(Q[S_new])-Q[S_old,reco[n]])\n",
    "                    elif method=='penalty':\n",
    "                        # Option to charge extra PENALTY if accept=0\n",
    "                        if accept==1:\n",
    "                            Q[S_old,reco[n]]+= att*(co[S_old]+lam*min(Q[S_new])-Q[S_old,reco[n]])\n",
    "                        else:\n",
    "                            Q[S_old,reco[n]]+= att*(co[S_old]+PENALTY+lam*min(Q[S_new])-Q[S_old,reco[n]])\n",
    "         #\n",
    "            S0L2.append(S_old)\n",
    "            #\n",
    "            S_old = S_new\n",
    "            #\n",
    "        S0L.append(S0L2)\n",
    "        cost.append((1-lam)*cc)\n",
    "        #\n",
    "    return [cost, Q, S0L]"
   ]
  },
  {
   "cell_type": "code",
   "execution_count": null,
   "metadata": {
    "id": "XphlYT5X4wpN"
   },
   "outputs": [],
   "source": [
    "Qo_item = Qo\n",
    "#\n",
    "#=======================================================\n",
    "tic = time.perf_counter()\n",
    "#\n",
    "cost_Qsf, Q_Qsf, S0L_Qsf = QL_SlateFree(N,epsip0,p0in,lam,K,co,a,Qo_item,T_epis,gamma,XX,user,method,PENALTY)\n",
    "#\n",
    "toc = time.perf_counter()"
   ]
  },
  {
   "cell_type": "code",
   "execution_count": null,
   "metadata": {
    "colab": {
     "base_uri": "https://localhost:8080/"
    },
    "id": "sRVDv9bg4wpN",
    "outputId": "54799cd3-4080-4836-f932-61b6a964b170"
   },
   "outputs": [
    {
     "name": "stdout",
     "output_type": "stream",
     "text": [
      "Runtime: 5.8622 seconds\n"
     ]
    }
   ],
   "source": [
    "runtimeI = toc-tic\n",
    "print(f\"Runtime: {runtimeI:0.4f} seconds\")"
   ]
  },
  {
   "cell_type": "code",
   "execution_count": null,
   "metadata": {
    "id": "cViUuHGQ7N7u"
   },
   "outputs": [],
   "source": [
    "def outputNitem(Q,K):\n",
    "    BIG = 1000000000000\n",
    "    #kk = 2\n",
    "    #print('Q[',kk,']',np.round(Q[kk],5),'\\n')\n",
    "    # optimal policy\n",
    "    PP = np.zeros((K,K))\n",
    "    Best_action = list()\n",
    "    for k in range(K):\n",
    "        Qlocal = Q[k].copy()\n",
    "        bk = list()\n",
    "        for n in range(N):\n",
    "            item_opt = np.argmin(Qlocal)\n",
    "            bk.append(item_opt)\n",
    "            Qlocal[item_opt]=BIG\n",
    "        Best_action.append(bk)\n",
    "        PP[k][list(bk)] = 1\n",
    "    print('Best_slate=',Best_action,'\\n')\n",
    "    print('Policy_NN=',PP)"
   ]
  },
  {
   "cell_type": "code",
   "execution_count": null,
   "metadata": {
    "colab": {
     "base_uri": "https://localhost:8080/"
    },
    "id": "lTXokyYE4wpO",
    "outputId": "43bedae6-ba02-4080-8569-cef92e18fe6f"
   },
   "outputs": [
    {
     "name": "stdout",
     "output_type": "stream",
     "text": [
      "Best_slate= [[9, 3, 4], [7, 0, 8], [7, 1, 8], [1, 7, 0], [7, 0, 1], [7, 1, 8], [1, 7, 0], [9, 0, 8], [3, 6, 9], [7, 1, 8]] \n",
      "\n",
      "Policy_NN= [[0. 0. 0. 1. 1. 0. 0. 0. 0. 1.]\n",
      " [1. 0. 0. 0. 0. 0. 0. 1. 1. 0.]\n",
      " [0. 1. 0. 0. 0. 0. 0. 1. 1. 0.]\n",
      " [1. 1. 0. 0. 0. 0. 0. 1. 0. 0.]\n",
      " [1. 1. 0. 0. 0. 0. 0. 1. 0. 0.]\n",
      " [0. 1. 0. 0. 0. 0. 0. 1. 1. 0.]\n",
      " [1. 1. 0. 0. 0. 0. 0. 1. 0. 0.]\n",
      " [1. 0. 0. 0. 0. 0. 0. 0. 1. 1.]\n",
      " [0. 0. 0. 1. 0. 0. 1. 0. 0. 1.]\n",
      " [0. 1. 0. 0. 0. 0. 0. 1. 1. 0.]]\n"
     ]
    }
   ],
   "source": [
    "############### print results QL_SlateFree ######################\n",
    "outputNitem(Q_Qsf,K)"
   ]
  },
  {
   "cell_type": "code",
   "execution_count": null,
   "metadata": {
    "id": "sA2cHvAn4wpO"
   },
   "outputs": [],
   "source": [
    "# Step 1.Apply smoothing (if no smoothing: window=1)\n",
    "window = 200 #half window\n",
    "smooth_cost_Qsf = smooth(cost_Qsf,window,T_epis)\n",
    "#"
   ]
  },
  {
   "cell_type": "code",
   "execution_count": null,
   "metadata": {
    "colab": {
     "base_uri": "https://localhost:8080/",
     "height": 283
    },
    "id": "mkRv6e_Z4wpO",
    "outputId": "dfb9bc4d-80c7-437a-a945-1aa3c6495f11"
   },
   "outputs": [
    {
     "data": {
      "image/png": "[encoded data removed]",
      "text/plain": [
       "<Figure size 432x288 with 1 Axes>"
      ]
     },
     "metadata": {
      "needs_background": "light"
     },
     "output_type": "display_data"
    }
   ],
   "source": [
    "# Step 2.Plot smoothed discounted cost over episodes\n",
    "plt.plot(np.arange(T_epis)[window+1:T_epis-window-1],np.array(smooth_cost_Qsf),'r')\n",
    "plt.xlabel('Number of Episodes')\n",
    "plt.ylabel(\"Episode Value (smoothed {})\".format(window))\n",
    "plt.xscale('log')\n",
    "#plt.savefig('SF_User2_200K_smooth200.png')"
   ]
  },
  {
   "cell_type": "markdown",
   "metadata": {
    "id": "zdg95iZi4wpR"
   },
   "source": [
    "### C.2 SlateFree-SARSA with item frequencies N>=1"
   ]
  },
  {
   "cell_type": "code",
   "execution_count": null,
   "metadata": {
    "id": "WQpxug7w7N7v"
   },
   "outputs": [],
   "source": [
    "def SARSA_SlateFree(N,epsip0,p0in,lam,K,co,a,Qo_item,T_epis,gamma,XX,user,method,PENALTY):\n",
    "    # gamma is the learning rate\n",
    "    # lam is the original discount\n",
    "    # a is the retention ratio\n",
    "    # q is the desire constraint level\n",
    "    #\n",
    "    Len = np.random.geometric(1-lam,T_epis)\n",
    "    S0L = list()\n",
    "    BIG = 1000000000000\n",
    "    cumulP0 = np.cumsum(p0)\n",
    "    cost = list()\n",
    "    telE=0 #counts episodes\n",
    "    Q=Qo_item.copy()\n",
    "    #\n",
    "    for El in Len:\n",
    "        telE+=1\n",
    "        telEs=0 # counts steps of an episode\n",
    "        S0L2 = list() # list of episode states\n",
    "        cc=0 # initialises episode cost\n",
    "        # STATE\n",
    "        S_old = np.random.randint(K) # user chooses initial state\n",
    "        #print(\"t0=\",telE,\"S0=\",S_old)\n",
    "        #\n",
    "        #ACTION epsilon-greedy\n",
    "        epsip = epsip0 #(Exploration - Exploitation tradeoff)\n",
    "        #\n",
    "        if np.random.binomial(1,epsip,1) ==0:\n",
    "            # Exploit the best strategy\n",
    "            Q_local = Q[S_old].copy()\n",
    "            for n in range(N):\n",
    "                if n==0:\n",
    "                    Q_local[S_old]=BIG\n",
    "                    reco=[np.argmin(Q_local)]\n",
    "                else:\n",
    "                    reco.extend([np.argmin(Q_local)])\n",
    "                Q_local[np.argmin(Q_local)]=BIG\n",
    "            del Q_local\n",
    "        else:\n",
    "            # Explore among others\n",
    "            reco = Explore(N,K,S_old)\n",
    "            #\n",
    "        # The episode starts loopin'\n",
    "        #\n",
    "        for tt in range(El):\n",
    "            #update discounted cost (REWARD)\n",
    "            cc+=((lam)**telEs)*co[S_old]\n",
    "            telEs+=1\n",
    "            #================================================================\n",
    "            # NEXT STATE S'\n",
    "            #================================================================\n",
    "            (S_new, accept) = behaveNN(user,reco,a,S_old,K,cumulP0,XX)\n",
    "            #\n",
    "            #================================================================\n",
    "            #NEW ACTION A' (epsilon-greedy action)\n",
    "            reco_new = list()\n",
    "            if np.random.binomial(1,epsip,1) ==0:\n",
    "                # Exploit the best strategy\n",
    "                Q_local = Q[S_new].copy()\n",
    "                for n in range(N):\n",
    "                    if n==0:\n",
    "                        Q_local[S_new]=BIG\n",
    "                        reco_new=[np.argmin(Q_local)]\n",
    "                    else:\n",
    "                        reco_new.extend([np.argmin(Q_local)])\n",
    "                    Q_local[np.argmin(Q_local)]=BIG\n",
    "                del Q_local\n",
    "            else:\n",
    "                # Explore among others\n",
    "                reco_new = Explore(N,K,S_new)\n",
    "                #\n",
    "            #=========================================\n",
    "            #update Q\n",
    "            att = gamma#/(math.sqrt(tt+1))\n",
    "            #print(\"S_old,reco,S_new,reco_new=\",S_old,reco,S_new,reco_new)\n",
    "            #\n",
    "            #\n",
    "            sumQmin = 0\n",
    "            for n in range(N):\n",
    "                sumQmin+=Q[S_new][reco_new[n]]\n",
    "            #\n",
    "            #\n",
    "            for n in range(N):\n",
    "                if method=='min' or 'sub':\n",
    "                    Q[S_old,reco[n]]+= att*(co[S_old]+lam*(sumQmin)/N-Q[S_old,reco[n]])\n",
    "                elif method=='penalty':\n",
    "                    # Option to charge extra PENALTY if accept=0\n",
    "                    if accept==1:\n",
    "                        Q[S_old,reco[n]]+= att*(co[S_old]+lam*(sumQmin)/N-Q[S_old,reco[n]])\n",
    "                    else:\n",
    "                        Q[S_old,reco[n]]+= att*(co[S_old]+PENALTY+lam*(sumQmin)/N-Q[S_old,reco[n]])\n",
    "            #\n",
    "            #\n",
    "            S0L2.append(S_old)\n",
    "            S_old = S_new\n",
    "            reco = reco_new\n",
    "        S0L.append(S0L2)\n",
    "        cost.append((1-lam)*cc)\n",
    "    #\n",
    "    return [cost, Q, S0L]"
   ]
  },
  {
   "cell_type": "code",
   "execution_count": null,
   "metadata": {
    "id": "BNMifovi4wpR"
   },
   "outputs": [],
   "source": [
    "Qo_item = Qo\n",
    "#\n",
    "#=======================================================\n",
    "tic = time.perf_counter()\n",
    "#\n",
    "cost_SAR, Q_SAR, S0L_SAR = SARSA_SlateFree(N,epsip0,p0in,lam,K,co,a,Qo_item,T_epis,gamma,XX,user,method,PENALTY)\n",
    "#\n",
    "toc = time.perf_counter()"
   ]
  },
  {
   "cell_type": "code",
   "execution_count": null,
   "metadata": {
    "colab": {
     "base_uri": "https://localhost:8080/"
    },
    "id": "1r7FjADi4wpR",
    "outputId": "720d0aac-0934-4c97-ba62-ba70f0b7a7d1"
   },
   "outputs": [
    {
     "name": "stdout",
     "output_type": "stream",
     "text": [
      "Runtime: 5.7085 seconds\n"
     ]
    }
   ],
   "source": [
    "runtimeI = toc-tic\n",
    "print(f\"Runtime: {runtimeI:0.4f} seconds\")"
   ]
  },
  {
   "cell_type": "code",
   "execution_count": null,
   "metadata": {
    "colab": {
     "base_uri": "https://localhost:8080/"
    },
    "id": "clkp_8D44wpS",
    "outputId": "01378481-b4c8-4d5b-d7e9-2d15b6e7780d"
   },
   "outputs": [
    {
     "name": "stdout",
     "output_type": "stream",
     "text": [
      "Best_slate= [[9, 7, 2], [8, 0, 7], [9, 7, 5], [0, 8, 7], [6, 7, 9], [8, 7, 0], [7, 0, 1], [9, 8, 0], [5, 0, 3], [8, 7, 0]] \n",
      "\n",
      "Policy_NN= [[0. 0. 1. 0. 0. 0. 0. 1. 0. 1.]\n",
      " [1. 0. 0. 0. 0. 0. 0. 1. 1. 0.]\n",
      " [0. 0. 0. 0. 0. 1. 0. 1. 0. 1.]\n",
      " [1. 0. 0. 0. 0. 0. 0. 1. 1. 0.]\n",
      " [0. 0. 0. 0. 0. 0. 1. 1. 0. 1.]\n",
      " [1. 0. 0. 0. 0. 0. 0. 1. 1. 0.]\n",
      " [1. 1. 0. 0. 0. 0. 0. 1. 0. 0.]\n",
      " [1. 0. 0. 0. 0. 0. 0. 0. 1. 1.]\n",
      " [1. 0. 0. 1. 0. 1. 0. 0. 0. 0.]\n",
      " [1. 0. 0. 0. 0. 0. 0. 1. 1. 0.]]\n"
     ]
    }
   ],
   "source": [
    "############### print results SlateQ ######################\n",
    "outputNitem(Q_SAR,K)"
   ]
  },
  {
   "cell_type": "code",
   "execution_count": null,
   "metadata": {
    "id": "Y2BxV_lp4wpS"
   },
   "outputs": [],
   "source": [
    "# Step 1.Apply smoothing (if no smoothing: window=1)\n",
    "#window = 200 #half window\n",
    "smooth_cost_SAR = smooth(cost_SAR,window,T_epis)\n",
    "#"
   ]
  },
  {
   "cell_type": "code",
   "execution_count": null,
   "metadata": {
    "colab": {
     "base_uri": "https://localhost:8080/",
     "height": 295
    },
    "id": "1n0cvieh4wpS",
    "outputId": "7c55283d-aa7c-4162-8519-568f2ad0291f"
   },
   "outputs": [
    {
     "data": {
      "image/png": "[encoded data removed]",
      "text/plain": [
       "<Figure size 432x288 with 1 Axes>"
      ]
     },
     "metadata": {
      "needs_background": "light"
     },
     "output_type": "display_data"
    }
   ],
   "source": [
    "# Step 2.Plot smooth discounted cost over episodes -- compare with other results\n",
    "plt.plot(np.arange(T_epis)[window+1:T_epis-window-1],np.array(smooth_cost_SAR),'green',label='SlateFree-SARSA')\n",
    "plt.plot(np.arange(T_epis)[window+1:T_epis-window-1],np.array(smooth_cost_Qsf),'r',label='SlateFree-Q')\n",
    "plt.plot(np.arange(T_epis)[window+1:T_epis-window-1],np.array(smooth_cost_Q),'b',label='Vanilla-Q')\n",
    "plt.xlabel('Number of Episodes')\n",
    "plt.ylabel(\"Episode Value (smoothed {})\".format(window))\n",
    "plt.legend(loc='best')\n",
    "plt.title(title)\n",
    "#plt.xscale('log')\n",
    "savePlot4 = savePlot[:-4]+'PLUS.png'\n",
    "#plt.savefig(savePlot4)"
   ]
  },
  {
   "cell_type": "markdown",
   "metadata": {
    "id": "YmcvxYWR4wpP"
   },
   "source": [
    "## D. SlateQ"
   ]
  },
  {
   "cell_type": "markdown",
   "metadata": {
    "id": "wjo_Z8MD4wpP"
   },
   "source": [
    "SlateQ comes from reference:\n",
    "\n",
    "[Ie et al.19] Eugene Ie, Vihan Jain, JingWang, Sanmit Narvekar, Ritesh Agarwal, RuiWu, Heng-Tze Cheng, Tushar Chandra, and Craig Boutilier. \"SlateQ: A tractable decomposition for reinforcement learning with recommendation sets.\" In Proceedings of the Twenty-eighth International Joint Conference on Artificial Intelligence (IJCAI-19), pages 2592–2599, Macau, China, 2019. See arXiv:1905.12767 for a related and expanded paper (with additional material and authors).\n",
    "\n",
    "For its implementation, we need to provide a user preference matrix, which weights the probability that a user will select an item from the recommendation slate, when viewing item $i$.\n",
    "\n",
    "In our case we take this choice from some given similarity matrix, because we cannot know the exact profile of the user. In the above [Ie et al.19] paper, the authors assume either a given preference choice matrix irrespective of the user profile, as we do here, or they estimate the choice per user from measurements. Since we do not have this possibility and also because the learning of such parameters is an extra learning process parallel to the Q-learning, we take the fix choice variation. Besides, even such measurements can never be exact, and contain errors. We show that even this arbitrary choice can work for small sizes of library size, but fails to do so, when the size becomes larger."
   ]
  },
  {
   "cell_type": "code",
   "execution_count": null,
   "metadata": {
    "id": "-itK3k9y4wpP"
   },
   "outputs": [],
   "source": [
    "#User choice matrix (random with preference on next item)\n",
    "np.random.seed(99)\n",
    "U = np.random.uniform(0,1,[K,K])\n",
    "U+=1*np.eye(K,k=1)\n",
    "U[K-1][0]+=1\n",
    "for s in range(K):\n",
    "    U[s]=U[s]/np.max(U[s])\n",
    "#print(U)"
   ]
  },
  {
   "cell_type": "code",
   "execution_count": null,
   "metadata": {
    "id": "F8wp4LsK7N7v"
   },
   "outputs": [],
   "source": [
    "def SlateQ(N,epsip0,p0in,lam,K,U,co,a,Qo_item,T_epis,gamma,T,XX,user,method,PENALTY):\n",
    "    # N >= 1 is the number of recommendations\n",
    "    # gamma is the learning rate\n",
    "    # lam is the original discount\n",
    "    # a is the retention ratio\n",
    "    # q is the desire constraint level\n",
    "    #\n",
    "    Len = np.random.geometric(1-lam,T_epis)\n",
    "    BIG = 1000000000\n",
    "    S0L = list()\n",
    "    cumulP0 = np.cumsum(p0)\n",
    "    cost = list()\n",
    "    telE=0 #counts episodes\n",
    "    Q=Qo_item.copy()\n",
    "    Prefs = np.ones((K,K))\n",
    "    #\n",
    "    for El in Len:\n",
    "        telE+=1\n",
    "        telEs=0 # counts steps of an episode\n",
    "        S0L2 = list() # list of episode states\n",
    "        cc=0 # initialises episode cost\n",
    "        # STATE\n",
    "        S_old = np.random.randint(K) # user chooses initial state\n",
    "        #print(\"t0=\",telE,\"S0=\",S_old)\n",
    "        #\n",
    "        # The episode starts loopin'\n",
    "        #\n",
    "        for tt in range(El):\n",
    "            #update discounted cost (REWARD)\n",
    "            cc+=((lam)**telEs)*co[S_old]\n",
    "            telEs+=1\n",
    "            #\n",
    "            #ACTION epsilon-greedy\n",
    "            epsip = epsip0\n",
    "            reco=[]\n",
    "            if np.random.binomial(1,epsip,1) ==0:\n",
    "                # Exploit the best strategy\n",
    "                Q_local = Q[S_old].copy()\n",
    "                for n in range(N):\n",
    "                    if n==0:\n",
    "                        Q_local[S_old]=BIG\n",
    "                        reco=[np.argmin(Q_local)]\n",
    "                    else:\n",
    "                        reco.extend([np.argmin(Q_local)])\n",
    "                    Q_local[np.argmin(Q_local)]=BIG\n",
    "                del Q_local\n",
    "            else:\n",
    "                # Explore among others\n",
    "                reco = Explore(N,K,S_old)\n",
    "                #\n",
    "            #================================================================\n",
    "            # NEXT STATE S'\n",
    "            #================================================================\n",
    "            (S_new, accept) = behaveNN(user,reco,a,S_old,K,cumulP0,XX)\n",
    "            #\n",
    "            #================================================================\n",
    "            # Save the user preferences in a table\n",
    "            #if telE<T_epis/3:\n",
    "            #    Prefs[S_old][S_new]+=1\n",
    "            #================================================================\n",
    "            #update Q\n",
    "            att = gamma#/(math.sqrt(tt+1))\n",
    "            #print(\"S_old,reco,S_new=\",S_old,reco,S_new)\n",
    "            #\n",
    "            Q_local = Q[S_new].copy()\n",
    "            Q_local = Q_local*(np.exp(+T*U[S_new]))\n",
    "            minsum, densum = 0, 0\n",
    "            for n in range(N):\n",
    "                minsum+= min(Q_local)\n",
    "                densum+=np.exp(+T*U[S_new][np.argmin(Q_local)])\n",
    "                Q_local[np.argmin(Q_local)]=BIG\n",
    "            minsum = minsum/densum\n",
    "            del Q_local\n",
    "            #\n",
    "            if method=='min':\n",
    "                Q[S_old,S_new]+= att*(co[S_old]+lam*minsum-Q[S_old,S_new])\n",
    "            elif method=='penalty':\n",
    "                # Option to charge extra PENALTY if accept=0\n",
    "                if accept==1:\n",
    "                    Q[S_old,S_new]+= att*(co[S_old]+lam*minsum-Q[S_old,S_new])\n",
    "                else:\n",
    "                    Q[S_old,S_new]+= att*(co[S_old]+PENALTY+lam*minsum-Q[S_old,S_new])\n",
    "            #\n",
    "            #\n",
    "            S0L2.append(S_old)\n",
    "            S_old = S_new\n",
    "            #\n",
    "        S0L.append(S0L2)\n",
    "        cost.append((1-lam)*cc)\n",
    "    #\n",
    "    return [cost, Q, S0L]"
   ]
  },
  {
   "cell_type": "code",
   "execution_count": null,
   "metadata": {
    "id": "F37S2EAO4wpP"
   },
   "outputs": [],
   "source": [
    "Qo_item = Qo\n",
    "#\n",
    "T=0.01 #Boltzmann temperature for user choice model\n",
    "#=======================================================\n",
    "tic = time.perf_counter()\n",
    "#\n",
    "cost_sQ, Q_sQ, S0L_sQ = SlateQ(N,epsip0,p0in,lam,K,U,co,a,Qo_item,T_epis,gamma,T,XX,user,method,PENALTY)\n",
    "#\n",
    "toc = time.perf_counter()"
   ]
  },
  {
   "cell_type": "code",
   "execution_count": null,
   "metadata": {
    "colab": {
     "base_uri": "https://localhost:8080/"
    },
    "id": "LGF5OXKk4wpQ",
    "outputId": "68a2c38d-92d2-46a6-90e0-5209c6d508d5"
   },
   "outputs": [
    {
     "name": "stdout",
     "output_type": "stream",
     "text": [
      "Runtime: 7.4525 seconds\n"
     ]
    }
   ],
   "source": [
    "runtimeI = toc-tic\n",
    "print(f\"Runtime: {runtimeI:0.4f} seconds\")"
   ]
  },
  {
   "cell_type": "code",
   "execution_count": null,
   "metadata": {
    "colab": {
     "base_uri": "https://localhost:8080/"
    },
    "id": "LYPdqfLA4wpQ",
    "outputId": "7ca170e6-f404-4025-bb48-d2a346e27a73"
   },
   "outputs": [
    {
     "name": "stdout",
     "output_type": "stream",
     "text": [
      "Best_slate= [[1, 8, 9], [0, 8, 7], [1, 0, 8], [1, 0, 8], [1, 0, 8], [1, 0, 7], [1, 0, 8], [1, 0, 9], [0, 1, 7], [1, 0, 7]] \n",
      "\n",
      "Policy_NN= [[0. 1. 0. 0. 0. 0. 0. 0. 1. 1.]\n",
      " [1. 0. 0. 0. 0. 0. 0. 1. 1. 0.]\n",
      " [1. 1. 0. 0. 0. 0. 0. 0. 1. 0.]\n",
      " [1. 1. 0. 0. 0. 0. 0. 0. 1. 0.]\n",
      " [1. 1. 0. 0. 0. 0. 0. 0. 1. 0.]\n",
      " [1. 1. 0. 0. 0. 0. 0. 1. 0. 0.]\n",
      " [1. 1. 0. 0. 0. 0. 0. 0. 1. 0.]\n",
      " [1. 1. 0. 0. 0. 0. 0. 0. 0. 1.]\n",
      " [1. 1. 0. 0. 0. 0. 0. 1. 0. 0.]\n",
      " [1. 1. 0. 0. 0. 0. 0. 1. 0. 0.]]\n"
     ]
    }
   ],
   "source": [
    "############### print results SlateQ ######################\n",
    "outputNitem(Q_sQ,K)"
   ]
  },
  {
   "cell_type": "code",
   "execution_count": null,
   "metadata": {
    "id": "ErNoHBwI4wpQ"
   },
   "outputs": [],
   "source": [
    "# Step 1.Apply smoothing (if no smoothing: window=1)\n",
    "#window = 200 #half window\n",
    "smooth_cost_sQ = smooth(cost_sQ,window,T_epis)\n",
    "#"
   ]
  },
  {
   "cell_type": "code",
   "execution_count": null,
   "metadata": {
    "colab": {
     "base_uri": "https://localhost:8080/",
     "height": 299
    },
    "id": "uB7K_-gZ4wpR",
    "outputId": "20b42c0e-c152-43bf-f5eb-392c660a12e6"
   },
   "outputs": [
    {
     "data": {
      "image/png": "[encoded data removed]",
      "text/plain": [
       "<Figure size 432x288 with 1 Axes>"
      ]
     },
     "metadata": {
      "needs_background": "light"
     },
     "output_type": "display_data"
    }
   ],
   "source": [
    "# Step 2.Plot smooth discounted cost over episodes -- compare with other results\n",
    "plt.plot(np.arange(T_epis)[window+1:T_epis-window-1],np.array(smooth_cost_sQ),'purple',label='SlateQ')\n",
    "plt.plot(np.arange(T_epis)[window+1:T_epis-window-1],np.array(smooth_cost_Qsf),'r',label='SlateFree-Q')\n",
    "plt.plot(np.arange(T_epis)[window+1:T_epis-window-1],np.array(smooth_cost_Q),'b',label='Vanilla-Q')\n",
    "plt.plot(np.arange(T_epis)[window+1:T_epis-window-1],np.array(smooth_cost_SAR),'green',label='SlateFree-SARSA')\n",
    "plt.plot(np.arange(T_epis)[window+1:T_epis-window-1],np.array(smooth_cost_SARN),'c',label='Vanilla-SARSA')\n",
    "\n",
    "plt.xlabel('Number of Episodes (log)')\n",
    "plt.ylabel(\"Episode Value (smoothed {})\".format(window))\n",
    "plt.legend(loc='best')\n",
    "title = \"User{}, K={}, N={}, method={}\".format(user,K,N,method)\n",
    "plt.title(title)\n",
    "plt.xscale('log')\n",
    "savePlot = \"NEW_User_{}_ALL_N{}_K{}_{}_dataValues_PENALTY{}_method{}.png\".format(user,N,K,T_epis,PENALTY,method)\n",
    "#plt.savefig(savePlot)"
   ]
  }
 ],
 "metadata": {
  "colab": {
   "collapsed_sections": [
    "lwKYJyjk4wpN",
    "zdg95iZi4wpR"
   ],
   "provenance": []
  },
  "kernelspec": {
   "display_name": "Python 3 (ipykernel)",
   "language": "python",
   "name": "python3"
  },
  "language_info": {
   "codemirror_mode": {
    "name": "ipython",
    "version": 3
   },
   "file_extension": ".py",
   "mimetype": "text/x-python",
   "name": "python",
   "nbconvert_exporter": "python",
   "pygments_lexer": "ipython3",
   "version": "3.10.12"
  }
 },
 "nbformat": 4,
 "nbformat_minor": 1
}
